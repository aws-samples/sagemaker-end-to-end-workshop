{
 "cells": [
  {
   "cell_type": "markdown",
   "id": "71cc94fe-bc37-44ca-a7e6-25ecc6d9c774",
   "metadata": {},
   "source": [
    "## Create Feature Store "
   ]
  },
  {
   "cell_type": "code",
   "execution_count": null,
   "id": "72a53e7e-28fb-4019-af2e-146550362ebd",
   "metadata": {
    "tags": []
   },
   "outputs": [],
   "source": [
    "import boto3\n",
    "import sagemaker\n",
    "from sagemaker.s3 import parse_s3_url\n",
    "from sagemaker.feature_store.feature_group import FeatureGroup\n",
    "from sagemaker import get_execution_role\n",
    "import logging\n",
    "import time\n",
    "\n",
    "import pandas as pd\n",
    "\n",
    "role = get_execution_role()\n",
    "sess = sagemaker.Session()\n",
    "\n",
    "query_results= 'sagemaker-workshop-end-to-end'"
   ]
  },
  {
   "cell_type": "code",
   "execution_count": null,
   "id": "d69ecf9a-a69b-4171-8d08-10e5f3fd08d7",
   "metadata": {
    "tags": []
   },
   "outputs": [],
   "source": [
    "logger = logging.getLogger('__name__')\n",
    "logger.setLevel(logging.DEBUG)\n",
    "logger.addHandler(logging.StreamHandler())"
   ]
  },
  {
   "cell_type": "code",
   "execution_count": null,
   "id": "f1e6fb6e-923f-4045-b378-bbe1b7be7657",
   "metadata": {
    "tags": []
   },
   "outputs": [],
   "source": [
    "%store -r s3uri_raw\n",
    "%store -r bucket\n",
    "%store -r prefix"
   ]
  },
  {
   "cell_type": "code",
   "execution_count": null,
   "id": "1c53c502-6aa5-4a22-bd1b-f877c663b1c8",
   "metadata": {
    "tags": []
   },
   "outputs": [],
   "source": [
    "out_bucket, out_prefix = parse_s3_url(s3uri_raw)\n",
    "out_bucket, out_prefix"
   ]
  },
  {
   "cell_type": "markdown",
   "id": "c5627537-1e2b-46a0-ae93-58fb28caa9dd",
   "metadata": {},
   "source": [
    "### Dataset Load"
   ]
  },
  {
   "cell_type": "code",
   "execution_count": null,
   "id": "3b655c8c-d944-4cbd-b76a-48120847baaf",
   "metadata": {
    "tags": []
   },
   "outputs": [],
   "source": [
    "sess.download_data(\".\", \n",
    "                   out_bucket, \n",
    "                   key_prefix=out_prefix)"
   ]
  },
  {
   "cell_type": "code",
   "execution_count": null,
   "id": "2f1dba93-9254-4ef8-b98d-71e83ad357aa",
   "metadata": {
    "tags": []
   },
   "outputs": [],
   "source": [
    "churn_df = pd.read_csv('churn.txt')\n",
    "churn_df.head(5)"
   ]
  },
  {
   "cell_type": "code",
   "execution_count": null,
   "id": "999da7cc-f276-45a6-b812-49681dcb9ae2",
   "metadata": {
    "tags": []
   },
   "outputs": [],
   "source": [
    "churn_df = churn_df.rename(columns=\n",
    "                                 {'State': 'state', \n",
    "                                  'Account Length': 'acc_len',\n",
    "                                  'Area Code': 'area_code',\n",
    "                                  'Phone': 'phone',\n",
    "                                  \"Int'l Plan\": 'intl_plan',\n",
    "                                  'VMail Plan': 'vmail_plan',\n",
    "                                  'VMail Message': 'vmail_msg',\n",
    "                                  'Day Mins': 'day_mins',\n",
    "                                  'Day Calls': 'day_calls',\n",
    "                                  'Day Charge': 'day_charge',\n",
    "                                  'Eve Mins': 'eve_mins',\n",
    "                                  'Eve Calls': 'eve_calls',\n",
    "                                  'Eve Charge': 'eve_charge',\n",
    "                                  'Night Mins': 'night_mins',\n",
    "                                  'Night Calls': 'night_calls',\n",
    "                                  'Night Charge': 'night_charge',\n",
    "                                  'Intl Mins': 'intl_mins',\n",
    "                                  'Intl Calls': 'intl_calls',\n",
    "                                  'Intl Charge': 'intl_charge',\n",
    "                                  'CustServ Calls': 'cust_serev_calls',\n",
    "                                  'Churn?': 'churn',\n",
    "                                 }\n",
    "                                )"
   ]
  },
  {
   "cell_type": "code",
   "execution_count": null,
   "id": "fb51d92c-2702-4b3f-9466-07004d2f8d16",
   "metadata": {
    "tags": []
   },
   "outputs": [],
   "source": [
    "churn_df['event_time'] = pd.to_datetime('today').strftime(\"%Y-%m-%dT%H:%M:%SZ\")"
   ]
  },
  {
   "cell_type": "code",
   "execution_count": null,
   "id": "996b0a80-227a-45f4-baa0-777d6b140a98",
   "metadata": {
    "tags": []
   },
   "outputs": [],
   "source": [
    "churn_df.head(3)"
   ]
  },
  {
   "cell_type": "code",
   "execution_count": null,
   "id": "c60fe384-edb2-4184-a4ce-e87e4071211e",
   "metadata": {
    "tags": []
   },
   "outputs": [],
   "source": [
    "churn_df.dtypes"
   ]
  },
  {
   "cell_type": "markdown",
   "id": "c7a3a8e9-ca53-40f2-af4a-cb94ed46487b",
   "metadata": {},
   "source": [
    "### Creating Feature Store"
   ]
  },
  {
   "cell_type": "code",
   "execution_count": null,
   "id": "64578926-a3b3-463a-b336-49657b665672",
   "metadata": {
    "tags": []
   },
   "outputs": [],
   "source": [
    "fs_prefix = 'sagemaker-workshop-e2e-'"
   ]
  },
  {
   "cell_type": "code",
   "execution_count": null,
   "id": "5fe5940a-6bf1-41f1-aa68-b546909c86e9",
   "metadata": {
    "tags": []
   },
   "outputs": [],
   "source": [
    "churn_feature_group_name = f'{fs_prefix}churn'\n",
    "%store churn_feature_group_name\n",
    "churn_feature_group_name"
   ]
  },
  {
   "cell_type": "code",
   "execution_count": null,
   "id": "842854ba-ebf1-408c-b21d-56aaefdaf304",
   "metadata": {
    "tags": []
   },
   "outputs": [],
   "source": [
    "churn_feature_group = FeatureGroup(\n",
    "    name=churn_feature_group_name, \n",
    "    sagemaker_session=sess\n",
    ")"
   ]
  },
  {
   "cell_type": "code",
   "execution_count": null,
   "id": "4c22f9c6-b49b-4799-8227-a3e27a554f4a",
   "metadata": {
    "tags": []
   },
   "outputs": [],
   "source": [
    "churn_feature_group.load_feature_definitions(data_frame=churn_df)"
   ]
  },
  {
   "cell_type": "code",
   "execution_count": null,
   "id": "be4a8205-1577-40ba-9018-75942879477d",
   "metadata": {
    "tags": []
   },
   "outputs": [],
   "source": [
    "def wait_for_feature_group_creation_complete(feature_group):\n",
    "    status = feature_group.describe().get('FeatureGroupStatus')\n",
    "    print(f'Initial status: {status}')\n",
    "    while status == 'Creating':\n",
    "        logger.info(f'Waiting for feature group: {feature_group.name} to be created ...')\n",
    "        time.sleep(5)\n",
    "        status = feature_group.describe().get('FeatureGroupStatus')\n",
    "    if status != 'Created':\n",
    "        raise SystemExit(f'Failed to create feature group {feature_group.name}: {status}')\n",
    "    logger.info(f'FeatureGroup {feature_group.name} was successfully created.')"
   ]
  },
  {
   "cell_type": "code",
   "execution_count": null,
   "id": "005328f6-e548-42b5-abad-cec0015bbb1f",
   "metadata": {
    "tags": []
   },
   "outputs": [],
   "source": [
    "churn_feature_group.create(s3_uri=f's3://{bucket}/{prefix}', \n",
    "                               record_identifier_name='phone', \n",
    "                               event_time_feature_name='event_time', \n",
    "                               role_arn=role, \n",
    "                               enable_online_store=True)"
   ]
  },
  {
   "cell_type": "code",
   "execution_count": null,
   "id": "63967050-813b-4624-a6a3-dff4cea3dbf8",
   "metadata": {
    "tags": []
   },
   "outputs": [],
   "source": [
    "wait_for_feature_group_creation_complete(churn_feature_group)"
   ]
  },
  {
   "cell_type": "markdown",
   "id": "db0b8785-a00e-41c1-84d4-3650605aa432",
   "metadata": {},
   "source": [
    "#### Ingest Data on FS"
   ]
  },
  {
   "cell_type": "code",
   "execution_count": null,
   "id": "5b53f41c-60fe-4b78-be97-1675155af08c",
   "metadata": {
    "scrolled": true,
    "tags": []
   },
   "outputs": [],
   "source": [
    "churn_feature_group.ingest(\n",
    "    data_frame=churn_df, max_workers=2, wait=True\n",
    ")"
   ]
  },
  {
   "cell_type": "markdown",
   "id": "32d494f6-614c-4662-86c0-d00df09d48ac",
   "metadata": {},
   "source": [
    "### Querying Feature Store\n",
    "\n",
    "This step is to validate that data is available on Athena.  \n",
    "Re-run query until data is available on Athena."
   ]
  },
  {
   "cell_type": "code",
   "execution_count": null,
   "id": "cf36dc1d-5955-4604-afd7-b22380bfc53a",
   "metadata": {
    "tags": []
   },
   "outputs": [],
   "source": [
    "churn_query = churn_feature_group.athena_query()\n",
    "churn_table = churn_query.table_name"
   ]
  },
  {
   "cell_type": "code",
   "execution_count": null,
   "id": "b1b656bf-96f0-4d9c-8596-0db2994ad759",
   "metadata": {
    "tags": []
   },
   "outputs": [],
   "source": [
    "query_string = f'SELECT * FROM \"{churn_table}\" ' \\\n",
    "               f'limit 10; '\n",
    "%store query_string\n",
    "query_string"
   ]
  },
  {
   "cell_type": "code",
   "execution_count": null,
   "id": "915e302d-21f2-4c64-bed2-bcaaceab91dc",
   "metadata": {
    "tags": []
   },
   "outputs": [],
   "source": [
    "output_location = f's3://{bucket}/{query_results}/query_results/'\n",
    "print(f'Athena query output location: \\n{output_location}')"
   ]
  },
  {
   "cell_type": "markdown",
   "id": "29c86d53-aa92-418d-951d-8c22cc749828",
   "metadata": {},
   "source": [
    "#### Run Athena query and load the output as a Pandas dataframe"
   ]
  },
  {
   "cell_type": "code",
   "execution_count": null,
   "id": "61cd371c-ac2c-446c-bf8a-7f3c6b087bfc",
   "metadata": {
    "tags": []
   },
   "outputs": [],
   "source": [
    "churn_query.run(query_string=query_string, output_location=output_location)\n",
    "churn_query.wait()\n",
    "churn_query"
   ]
  },
  {
   "cell_type": "code",
   "execution_count": null,
   "id": "591bdfae-9ee4-4a9c-bc72-b6b159d9fbce",
   "metadata": {
    "tags": []
   },
   "outputs": [],
   "source": [
    "try:\n",
    "    joined_df = churn_query.as_dataframe()\n",
    "except:\n",
    "    raise Exception('Custom: Data is not available yet')\n",
    "joined_df.head(3)"
   ]
  },
  {
   "cell_type": "markdown",
   "id": "f29918f9-405d-4829-b735-118ca894efa4",
   "metadata": {},
   "source": [
    "#### Store Athena table name"
   ]
  },
  {
   "cell_type": "code",
   "execution_count": null,
   "id": "006f8499-8059-400e-8bc1-696ef27a3c8f",
   "metadata": {
    "tags": []
   },
   "outputs": [],
   "source": [
    "athena_table_name = churn_query.table_name\n",
    "%store athena_table_name"
   ]
  }
 ],
 "metadata": {
  "instance_type": "ml.t3.medium",
  "kernelspec": {
   "display_name": "Python 3 (Data Science)",
   "language": "python",
   "name": "python3__SAGEMAKER_INTERNAL__arn:aws:sagemaker:us-east-1:081325390199:image/datascience-1.0"
  },
  "language_info": {
   "codemirror_mode": {
    "name": "ipython",
    "version": 3
   },
   "file_extension": ".py",
   "mimetype": "text/x-python",
   "name": "python",
   "nbconvert_exporter": "python",
   "pygments_lexer": "ipython3",
   "version": "3.7.10"
  }
 },
 "nbformat": 4,
 "nbformat_minor": 5
}
